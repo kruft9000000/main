{
 "cells": [
  {
   "cell_type": "code",
   "execution_count": 22,
   "id": "34f1ef39",
   "metadata": {},
   "outputs": [],
   "source": [
    "from tensorflow.keras.preprocessing.image import ImageDataGenerator\n",
    "from keras.preprocessing import image\n",
    "from keras.models import load_model\n",
    "from tensorflow.keras.optimizers import Adam\n",
    "import tensorflow as tf\n",
    "from matplotlib import pyplot as plt\n",
    "import cv2\n",
    "import os\n",
    "import numpy as np"
   ]
  },
  {
   "cell_type": "code",
   "execution_count": 16,
   "id": "76bedd6b",
   "metadata": {},
   "outputs": [],
   "source": [
    "train = ImageDataGenerator(rescale=1/255)\n",
    "validation = ImageDataGenerator(rescale=1/255)"
   ]
  },
  {
   "cell_type": "code",
   "execution_count": 17,
   "id": "a754f570",
   "metadata": {},
   "outputs": [
    {
     "name": "stdout",
     "output_type": "stream",
     "text": [
      "Found 4368 images belonging to 3 classes.\n",
      "Found 3737 images belonging to 3 classes.\n"
     ]
    }
   ],
   "source": [
    "train_dataset = train.flow_from_directory(r\"C:\\Users\\HP\\Desktop\\pictures\\plantdisease_dataset\\train\",\n",
    "                                      target_size= (100,100),\n",
    "                                      batch_size= 20,\n",
    "                                      class_mode= \"categorical\")\n",
    "\n",
    "validation_dataset = train.flow_from_directory(r\"C:\\Users\\HP\\Desktop\\pictures\\plantdisease_dataset\\validation\",\n",
    "                                      target_size= (100,100),\n",
    "                                      batch_size= 20,\n",
    "                                      class_mode= \"categorical\")"
   ]
  },
  {
   "cell_type": "code",
   "execution_count": 18,
   "id": "6a6552b2",
   "metadata": {},
   "outputs": [
    {
     "data": {
      "text/plain": [
       "{'aphids': 0, 'powdery mildew': 1, 'spider mites': 2}"
      ]
     },
     "execution_count": 18,
     "metadata": {},
     "output_type": "execute_result"
    }
   ],
   "source": [
    "train_dataset.class_indices"
   ]
  },
  {
   "cell_type": "code",
   "execution_count": 19,
   "id": "74c679ec",
   "metadata": {},
   "outputs": [],
   "source": [
    "model = tf.keras.models.Sequential([ tf.keras.layers.Conv2D(16,(3,3),activation = 'relu',input_shape =(100,100,3)),\n",
    "                                    tf.keras.layers.MaxPool2D(2,2),\n",
    "                                    #\n",
    "                                    tf.keras.layers.Conv2D(32,(3,3),activation = 'relu'),\n",
    "                                    tf.keras.layers.MaxPool2D(2,2),\n",
    "                                    #\n",
    "                                    tf.keras.layers.Conv2D(64,(3,3),activation = 'relu'),\n",
    "                                    tf.keras.layers.MaxPool2D(2,2),\n",
    "                                    #\n",
    "                                    tf.keras.layers.Conv2D(128,(3,3),activation = 'relu'),\n",
    "                                    tf.keras.layers.MaxPool2D(2,2),\n",
    "                                    ##\n",
    "                                    tf.keras.layers.Flatten(),\n",
    "                                    ##\n",
    "                                    tf.keras.layers.Dense(128,activation= 'relu'),\n",
    "                                    ##\n",
    "                                    tf.keras.layers.Dense(3,activation= 'softmax')\n",
    "                                   ])"
   ]
  },
  {
   "cell_type": "code",
   "execution_count": 20,
   "id": "22072fc7",
   "metadata": {},
   "outputs": [],
   "source": [
    "model.compile(loss= 'categorical_crossentropy',\n",
    "             optimizer = Adam(lr=0.001),\n",
    "             metrics =['accuracy'])"
   ]
  },
  {
   "cell_type": "code",
   "execution_count": 24,
   "id": "957ab22c",
   "metadata": {},
   "outputs": [
    {
     "name": "stdout",
     "output_type": "stream",
     "text": [
      "Epoch 1/20\n",
      "187/187 [==============================] - 92s 492ms/step - loss: 0.4194 - acc: 0.9465\n",
      "219/219 [==============================] - 204s 932ms/step - loss: 0.6277 - acc: 0.8068 - val_loss: 0.4194 - val_acc: 0.9465\n",
      "Epoch 2/20\n",
      "187/187 [==============================] - 39s 208ms/step - loss: 0.3419 - acc: 0.9465\n",
      "219/219 [==============================] - 131s 596ms/step - loss: 0.6050 - acc: 0.8098 - val_loss: 0.3419 - val_acc: 0.9465\n",
      "Epoch 3/20\n",
      "187/187 [==============================] - 39s 207ms/step - loss: 0.2533 - acc: 0.9465\n",
      "219/219 [==============================] - 130s 592ms/step - loss: 0.5746 - acc: 0.8098 - val_loss: 0.2533 - val_acc: 0.9465\n",
      "Epoch 4/20\n",
      "187/187 [==============================] - 39s 208ms/step - loss: 0.2503 - acc: 0.9473\n",
      "219/219 [==============================] - 129s 589ms/step - loss: 0.5664 - acc: 0.8095 - val_loss: 0.2503 - val_acc: 0.9473\n",
      "Epoch 5/20\n",
      "187/187 [==============================] - 40s 212ms/step - loss: 0.2703 - acc: 0.92860s - loss: 0.2708 - acc: 0.9\n",
      "219/219 [==============================] - 131s 600ms/step - loss: 0.5453 - acc: 0.8171 - val_loss: 0.2703 - val_acc: 0.9286\n",
      "Epoch 6/20\n",
      "187/187 [==============================] - 39s 208ms/step - loss: 0.2738 - acc: 0.9401TA: 5s -\n",
      "219/219 [==============================] - 130s 594ms/step - loss: 0.5294 - acc: 0.8221 - val_loss: 0.2738 - val_acc: 0.9401\n",
      "Epoch 7/20\n",
      "187/187 [==============================] - 39s 210ms/step - loss: 0.2471 - acc: 0.9492\n",
      "219/219 [==============================] - 131s 597ms/step - loss: 0.5109 - acc: 0.8249 - val_loss: 0.2471 - val_acc: 0.9492\n",
      "Epoch 8/20\n",
      "187/187 [==============================] - 39s 208ms/step - loss: 0.2575 - acc: 0.9310\n",
      "219/219 [==============================] - 131s 598ms/step - loss: 0.4683 - acc: 0.8326 - val_loss: 0.2575 - val_acc: 0.9310\n",
      "Epoch 9/20\n",
      "187/187 [==============================] - 39s 209ms/step - loss: 0.1830 - acc: 0.9526\n",
      "219/219 [==============================] - 131s 599ms/step - loss: 0.4241 - acc: 0.8418 - val_loss: 0.1830 - val_acc: 0.9526\n",
      "Epoch 10/20\n",
      "187/187 [==============================] - 39s 208ms/step - loss: 0.1847 - acc: 0.9476\n",
      "219/219 [==============================] - 130s 594ms/step - loss: 0.3711 - acc: 0.8633 - val_loss: 0.1847 - val_acc: 0.9476\n",
      "Epoch 11/20\n",
      "187/187 [==============================] - 40s 213ms/step - loss: 0.1828 - acc: 0.9609\n",
      "219/219 [==============================] - 132s 601ms/step - loss: 0.3133 - acc: 0.8892 - val_loss: 0.1828 - val_acc: 0.9609\n",
      "Epoch 12/20\n",
      "187/187 [==============================] - 39s 210ms/step - loss: 0.0882 - acc: 0.9722\n",
      "219/219 [==============================] - 131s 599ms/step - loss: 0.2347 - acc: 0.9130 - val_loss: 0.0882 - val_acc: 0.9722\n",
      "Epoch 13/20\n",
      "187/187 [==============================] - 39s 211ms/step - loss: 0.1021 - acc: 0.9738\n",
      "219/219 [==============================] - 133s 608ms/step - loss: 0.1656 - acc: 0.9391 - val_loss: 0.1021 - val_acc: 0.9738\n",
      "Epoch 14/20\n",
      "187/187 [==============================] - 39s 210ms/step - loss: 0.0775 - acc: 0.9837\n",
      "219/219 [==============================] - 130s 595ms/step - loss: 0.1229 - acc: 0.9588 - val_loss: 0.0775 - val_acc: 0.9837\n",
      "Epoch 15/20\n",
      "187/187 [==============================] - 39s 209ms/step - loss: 0.0683 - acc: 0.9797\n",
      "219/219 [==============================] - 132s 601ms/step - loss: 0.0864 - acc: 0.9725 - val_loss: 0.0683 - val_acc: 0.9797\n",
      "Epoch 16/20\n",
      "187/187 [==============================] - 39s 211ms/step - loss: 0.0431 - acc: 0.9898\n",
      "219/219 [==============================] - 130s 594ms/step - loss: 0.0566 - acc: 0.9824 - val_loss: 0.0431 - val_acc: 0.9898\n",
      "Epoch 17/20\n",
      "187/187 [==============================] - 39s 208ms/step - loss: 0.0366 - acc: 0.9941\n",
      "219/219 [==============================] - 131s 597ms/step - loss: 0.0327 - acc: 0.9908 - val_loss: 0.0366 - val_acc: 0.9941\n",
      "Epoch 18/20\n",
      "187/187 [==============================] - 39s 211ms/step - loss: 0.0642 - acc: 0.9858\n",
      "219/219 [==============================] - 131s 600ms/step - loss: 0.0517 - acc: 0.9833 - val_loss: 0.0642 - val_acc: 0.9858\n",
      "Epoch 19/20\n",
      "187/187 [==============================] - 39s 210ms/step - loss: 0.0934 - acc: 0.9700\n",
      "219/219 [==============================] - 131s 598ms/step - loss: 0.0499 - acc: 0.9828 - val_loss: 0.0934 - val_acc: 0.9700\n",
      "Epoch 20/20\n",
      "187/187 [==============================] - 39s 210ms/step - loss: 0.0431 - acc: 0.9930\n",
      "219/219 [==============================] - 130s 596ms/step - loss: 0.0370 - acc: 0.9876 - val_loss: 0.0431 - val_acc: 0.9930\n"
     ]
    }
   ],
   "source": [
    "model_fit = model.fit(train_dataset,\n",
    "                     step_per_epoch = 40,\n",
    "                     epochs = 20,\n",
    "                     validation_data = validation_dataset)"
   ]
  },
  {
   "cell_type": "code",
   "execution_count": 25,
   "id": "7a7948d7",
   "metadata": {},
   "outputs": [],
   "source": [
    "model.save('leafdiseasedetection')"
   ]
  },
  {
   "cell_type": "code",
   "execution_count": null,
   "id": "8570aa28",
   "metadata": {},
   "outputs": [],
   "source": []
  }
 ],
 "metadata": {
  "kernelspec": {
   "display_name": "Python 3",
   "language": "python",
   "name": "python3"
  },
  "language_info": {
   "codemirror_mode": {
    "name": "ipython",
    "version": 3
   },
   "file_extension": ".py",
   "mimetype": "text/x-python",
   "name": "python",
   "nbconvert_exporter": "python",
   "pygments_lexer": "ipython3",
   "version": "3.6.13"
  }
 },
 "nbformat": 4,
 "nbformat_minor": 5
}

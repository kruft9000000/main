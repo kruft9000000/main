{
 "cells": [
  {
   "cell_type": "code",
   "execution_count": 3,
   "id": "a3af8bca",
   "metadata": {
    "scrolled": true
   },
   "outputs": [],
   "source": [
    "from tensorflow.keras.models import load_model\n",
    "from keras.preprocessing import image\n",
    "import cv2\n",
    "import numpy as np"
   ]
  },
  {
   "cell_type": "code",
   "execution_count": 18,
   "id": "9ec5866c",
   "metadata": {},
   "outputs": [],
   "source": [
    "model = load_model('leafdiseasedetection')"
   ]
  },
  {
   "cell_type": "code",
   "execution_count": 20,
   "id": "d83f9f0c",
   "metadata": {},
   "outputs": [],
   "source": [
    "img = cv2.imread(r\"C:\\Users\\HP\\Desktop\\pictures\\plantdisease_dataset\\test\\image7.jpg\")   #image path\n",
    "img = cv2.resize(img, (100,100))  #resizing the image into \n",
    "img = np.reshape(img,[1,100,100,3])"
   ]
  },
  {
   "cell_type": "code",
   "execution_count": 21,
   "id": "907d55e9",
   "metadata": {},
   "outputs": [
    {
     "name": "stdout",
     "output_type": "stream",
     "text": [
      "0: APHIDS\n"
     ]
    }
   ],
   "source": [
    "classes = model.predict_classes(img)\n",
    "\n",
    "if classes == 0:\n",
    "    print(\"0: APHIDS\")\n",
    "elif classes == 1:\n",
    "    print(\"1: POWDERY_MILDEW\")\n",
    "else:\n",
    "    print(\"2: SPIDER_MITES\")"
   ]
  },
  {
   "cell_type": "code",
   "execution_count": null,
   "id": "04075e70",
   "metadata": {},
   "outputs": [],
   "source": []
  }
 ],
 "metadata": {
  "kernelspec": {
   "display_name": "Python 3",
   "language": "python",
   "name": "python3"
  },
  "language_info": {
   "codemirror_mode": {
    "name": "ipython",
    "version": 3
   },
   "file_extension": ".py",
   "mimetype": "text/x-python",
   "name": "python",
   "nbconvert_exporter": "python",
   "pygments_lexer": "ipython3",
   "version": "3.6.13"
  }
 },
 "nbformat": 4,
 "nbformat_minor": 5
}
